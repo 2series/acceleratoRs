{
 "cells": [
  {
   "cell_type": "markdown",
   "metadata": {},
   "source": [
    "---\n",
    "title: \"Product Demand Forecast (hts)\"\n",
    "author: \"Fang Zhou, Data Scientist, Microsoft\"\n",
    "output: \n",
    "    rmarkdown::html_vignette:\n",
    "        toc: true\n",
    "\n",
    "vignette: >\n",
    "  %\\VignetteIndexEntry{Vignette Title}\n",
    "  %\\VignetteEngine{knitr::rmarkdown}\n",
    "  %\\VignetteEncoding{UTF-8}\n",
    "---"
   ]
  },
  {
   "cell_type": "code",
   "execution_count": 1,
   "metadata": {
    "attributes": {
     "classes": [],
     "echo": "FALSE",
     "id": ""
    },
    "collapsed": true
   },
   "outputs": [],
   "source": [
    "\n",
    "knitr::opts_chunk$set(fig.width = 6,\n",
    "                      fig.height = 4,\n",
    "                      fig.align ='center',\n",
    "                      dev = \"png\")\n"
   ]
  },
  {
   "cell_type": "markdown",
   "metadata": {},
   "source": [
    "# Introduction\n",
    "\n",
    "In this documentation, we are trying to build a quartly by category demand forecast model on product booking quantity data using the package 'hts'. We implement the advanced analytics process with R in the principle of step-by-step. \n",
    "\n",
    "## Product booking quantity data"
   ]
  },
  {
   "cell_type": "code",
   "execution_count": 2,
   "metadata": {
    "attributes": {
     "classes": [],
     "id": "",
     "message": "FALSE"
    }
   },
   "outputs": [
    {
     "name": "stderr",
     "output_type": "stream",
     "text": [
      "\n",
      "Attaching package: 'dplyr'\n",
      "\n",
      "The following objects are masked from 'package:stats':\n",
      "\n",
      "    filter, lag\n",
      "\n",
      "The following objects are masked from 'package:base':\n",
      "\n",
      "    intersect, setdiff, setequal, union\n",
      "\n",
      "\n",
      "Attaching package: 'zoo'\n",
      "\n",
      "The following objects are masked from 'package:base':\n",
      "\n",
      "    as.Date, as.Date.numeric\n",
      "\n",
      "Warning message in as.POSIXlt.POSIXct(Sys.time()):\n",
      "\"unable to identify current timezone 'C':\n",
      "please set environment variable 'TZ'\"Loading required package: SparseM\n",
      "\n",
      "Attaching package: 'SparseM'\n",
      "\n",
      "The following object is masked from 'package:base':\n",
      "\n",
      "    backsolve\n",
      "\n",
      "Loading required package: Matrix\n",
      "Loading required package: matrixcalc\n",
      "Loading required package: fma\n",
      "Loading required package: expsmooth\n",
      "Loading required package: lmtest\n",
      "Loading required package: tseries\n"
     ]
    }
   ],
   "source": [
    "## Load the required packages into the R session.\n",
    "\n",
    "library(dplyr)        # Missing value treatment with Filter.\n",
    "library(zoo)          # Missing value treatment with locf method.\n",
    "library(forecast)     # Time Series forecasting.\n",
    "library(hts)          # Hierarchical time series forecasting.\n",
    "library(fpp)          # Time Series cross validation.\n",
    "library(foreach)      # Run for loop in parallel."
   ]
  },
  {
   "cell_type": "markdown",
   "metadata": {},
   "source": [
    "Let's load the data and take a brief glimpse of it."
   ]
  },
  {
   "cell_type": "code",
   "execution_count": 3,
   "metadata": {
    "attributes": {
     "classes": [],
     "id": "",
     "message": "FALSE"
    },
    "collapsed": true
   },
   "outputs": [],
   "source": [
    "## Set directory\n",
    "\n",
    "setwd(\"C:/Demo/ProductDemandForecast\")\n",
    "\n",
    "wd <- getwd()"
   ]
  },
  {
   "cell_type": "code",
   "execution_count": 4,
   "metadata": {
    "attributes": {
     "classes": [],
     "error": "FALSE",
     "id": "",
     "message": "FALSE,",
     "warning": "FALSE,"
    }
   },
   "outputs": [
    {
     "data": {
      "text/html": [
       "<ol class=list-inline>\n",
       "\t<li>56</li>\n",
       "\t<li>10</li>\n",
       "</ol>\n"
      ],
      "text/latex": [
       "\\begin{enumerate*}\n",
       "\\item 56\n",
       "\\item 10\n",
       "\\end{enumerate*}\n"
      ],
      "text/markdown": [
       "1. 56\n",
       "2. 10\n",
       "\n",
       "\n"
      ],
      "text/plain": [
       "[1] 56 10"
      ]
     },
     "metadata": {},
     "output_type": "display_data"
    },
    {
     "name": "stdout",
     "output_type": "stream",
     "text": [
      "'data.frame':\t56 obs. of  10 variables:\n",
      " $ Year     : int  1998 1998 1998 1998 1999 1999 1999 1999 2000 2000 ...\n",
      " $ Quarter  : Factor w/ 4 levels \"Q1\",\"Q2\",\"Q3\",..: 1 2 3 4 1 2 3 4 1 2 ...\n",
      " $ Product.1: int  7320 6117 6282 6368 6602 5651 5710 6509 6589 5392 ...\n",
      " $ Product.2: int  21782 16881 13495 15963 22718 14775 14634 15669 20474 14522 ...\n",
      " $ Product.3: int  4865 4100 4418 5157 5550 3902 3970 3825 5706 4228 ...\n",
      " $ Product.4: int  14054 8237 6731 7675 13581 7883 6516 6834 12561 7801 ...\n",
      " $ Product.5: int  9055 5616 8298 6674 9168 7351 8322 7017 8706 7045 ...\n",
      " $ Product.6: int  8016 8461 13175 9092 10224 9672 14376 10620 9668 8885 ...\n",
      " $ Product.7: int  9178 6362 7965 6864 8908 7690 7998 7068 10484 7377 ...\n",
      " $ Product.8: int  10232 9540 12385 13098 10140 9948 10653 10781 11462 9217 ...\n"
     ]
    },
    {
     "data": {
      "text/html": [
       "<table>\n",
       "<thead><tr><th scope=col>Year</th><th scope=col>Quarter</th><th scope=col>Product.1</th><th scope=col>Product.2</th><th scope=col>Product.3</th><th scope=col>Product.4</th><th scope=col>Product.5</th><th scope=col>Product.6</th><th scope=col>Product.7</th><th scope=col>Product.8</th></tr></thead>\n",
       "<tbody>\n",
       "\t<tr><td>1998 </td><td>Q1   </td><td>7320 </td><td>21782</td><td>4865 </td><td>14054</td><td>9055 </td><td> 8016</td><td>9178 </td><td>10232</td></tr>\n",
       "\t<tr><td>1998 </td><td>Q2   </td><td>6117 </td><td>16881</td><td>4100 </td><td> 8237</td><td>5616 </td><td> 8461</td><td>6362 </td><td> 9540</td></tr>\n",
       "\t<tr><td>1998 </td><td>Q3   </td><td>6282 </td><td>13495</td><td>4418 </td><td> 6731</td><td>8298 </td><td>13175</td><td>7965 </td><td>12385</td></tr>\n",
       "\t<tr><td>1998 </td><td>Q4   </td><td>6368 </td><td>15963</td><td>5157 </td><td> 7675</td><td>6674 </td><td> 9092</td><td>6864 </td><td>13098</td></tr>\n",
       "\t<tr><td>1999 </td><td>Q1   </td><td>6602 </td><td>22718</td><td>5550 </td><td>13581</td><td>9168 </td><td>10224</td><td>8908 </td><td>10140</td></tr>\n",
       "\t<tr><td>1999 </td><td>Q2   </td><td>5651 </td><td>14775</td><td>3902 </td><td> 7883</td><td>7351 </td><td> 9672</td><td>7690 </td><td> 9948</td></tr>\n",
       "</tbody>\n",
       "</table>\n"
      ],
      "text/latex": [
       "\\begin{tabular}{r|llllllllll}\n",
       " Year & Quarter & Product.1 & Product.2 & Product.3 & Product.4 & Product.5 & Product.6 & Product.7 & Product.8\\\\\n",
       "\\hline\n",
       "\t 1998  & Q1    & 7320  & 21782 & 4865  & 14054 & 9055  &  8016 & 9178  & 10232\\\\\n",
       "\t 1998  & Q2    & 6117  & 16881 & 4100  &  8237 & 5616  &  8461 & 6362  &  9540\\\\\n",
       "\t 1998  & Q3    & 6282  & 13495 & 4418  &  6731 & 8298  & 13175 & 7965  & 12385\\\\\n",
       "\t 1998  & Q4    & 6368  & 15963 & 5157  &  7675 & 6674  &  9092 & 6864  & 13098\\\\\n",
       "\t 1999  & Q1    & 6602  & 22718 & 5550  & 13581 & 9168  & 10224 & 8908  & 10140\\\\\n",
       "\t 1999  & Q2    & 5651  & 14775 & 3902  &  7883 & 7351  &  9672 & 7690  &  9948\\\\\n",
       "\\end{tabular}\n"
      ],
      "text/markdown": [
       "\n",
       "Year | Quarter | Product.1 | Product.2 | Product.3 | Product.4 | Product.5 | Product.6 | Product.7 | Product.8 | \n",
       "|---|---|---|---|---|---|\n",
       "| 1998  | Q1    | 7320  | 21782 | 4865  | 14054 | 9055  |  8016 | 9178  | 10232 | \n",
       "| 1998  | Q2    | 6117  | 16881 | 4100  |  8237 | 5616  |  8461 | 6362  |  9540 | \n",
       "| 1998  | Q3    | 6282  | 13495 | 4418  |  6731 | 8298  | 13175 | 7965  | 12385 | \n",
       "| 1998  | Q4    | 6368  | 15963 | 5157  |  7675 | 6674  |  9092 | 6864  | 13098 | \n",
       "| 1999  | Q1    | 6602  | 22718 | 5550  | 13581 | 9168  | 10224 | 8908  | 10140 | \n",
       "| 1999  | Q2    | 5651  | 14775 | 3902  |  7883 | 7351  |  9672 | 7690  |  9948 | \n",
       "\n",
       "\n"
      ],
      "text/plain": [
       "  Year Quarter Product.1 Product.2 Product.3 Product.4 Product.5 Product.6\n",
       "1 1998 Q1      7320      21782     4865      14054     9055       8016    \n",
       "2 1998 Q2      6117      16881     4100       8237     5616       8461    \n",
       "3 1998 Q3      6282      13495     4418       6731     8298      13175    \n",
       "4 1998 Q4      6368      15963     5157       7675     6674       9092    \n",
       "5 1999 Q1      6602      22718     5550      13581     9168      10224    \n",
       "6 1999 Q2      5651      14775     3902       7883     7351       9672    \n",
       "  Product.7 Product.8\n",
       "1 9178      10232    \n",
       "2 6362       9540    \n",
       "3 7965      12385    \n",
       "4 6864      13098    \n",
       "5 8908      10140    \n",
       "6 7690       9948    "
      ]
     },
     "metadata": {},
     "output_type": "display_data"
    }
   ],
   "source": [
    "## Read data\n",
    "\n",
    "dspath <- file.path(wd, \"Data\", \"productQuantity.csv\")\n",
    "\n",
    "data <- read.table(dspath, header=TRUE, sep=\",\")\n",
    "\n",
    "dim(data) # 56 11\n",
    "\n",
    "str(data)\n",
    "\n",
    "head(data)"
   ]
  },
  {
   "cell_type": "markdown",
   "metadata": {},
   "source": [
    "## Handling missing value\n",
    "\n",
    "To clean the data, we remove some of columns with too many NAs (>10%) and replace other missing values with last-observation-carried-forward method."
   ]
  },
  {
   "cell_type": "code",
   "execution_count": 5,
   "metadata": {
    "attributes": {
     "classes": [],
     "error": "FALSE",
     "id": "",
     "message": "FALSE,",
     "warning": "FALSE,"
    }
   },
   "outputs": [
    {
     "data": {
      "text/html": [
       "<ol class=list-inline>\n",
       "\t<li>56</li>\n",
       "\t<li>10</li>\n",
       "</ol>\n"
      ],
      "text/latex": [
       "\\begin{enumerate*}\n",
       "\\item 56\n",
       "\\item 10\n",
       "\\end{enumerate*}\n"
      ],
      "text/markdown": [
       "1. 56\n",
       "2. 10\n",
       "\n",
       "\n"
      ],
      "text/plain": [
       "[1] 56 10"
      ]
     },
     "metadata": {},
     "output_type": "display_data"
    },
    {
     "data": {
      "text/html": [
       "<ol class=list-inline>\n",
       "\t<li>56</li>\n",
       "\t<li>10</li>\n",
       "</ol>\n"
      ],
      "text/latex": [
       "\\begin{enumerate*}\n",
       "\\item 56\n",
       "\\item 10\n",
       "\\end{enumerate*}\n"
      ],
      "text/markdown": [
       "1. 56\n",
       "2. 10\n",
       "\n",
       "\n"
      ],
      "text/plain": [
       "[1] 56 10"
      ]
     },
     "metadata": {},
     "output_type": "display_data"
    },
    {
     "data": {
      "text/html": [
       "<ol class=list-inline>\n",
       "\t<li>56</li>\n",
       "\t<li>10</li>\n",
       "</ol>\n"
      ],
      "text/latex": [
       "\\begin{enumerate*}\n",
       "\\item 56\n",
       "\\item 10\n",
       "\\end{enumerate*}\n"
      ],
      "text/markdown": [
       "1. 56\n",
       "2. 10\n",
       "\n",
       "\n"
      ],
      "text/plain": [
       "[1] 56 10"
      ]
     },
     "metadata": {},
     "output_type": "display_data"
    },
    {
     "data": {
      "text/html": [
       "<table>\n",
       "<thead><tr><th scope=col>Year</th><th scope=col>Quarter</th><th scope=col>Product.1</th><th scope=col>Product.2</th><th scope=col>Product.3</th><th scope=col>Product.4</th><th scope=col>Product.5</th><th scope=col>Product.6</th><th scope=col>Product.7</th><th scope=col>Product.8</th></tr></thead>\n",
       "<tbody>\n",
       "\t<tr><td>1998 </td><td>Q1   </td><td>7320 </td><td>21782</td><td>4865 </td><td>14054</td><td>9055 </td><td> 8016</td><td>9178 </td><td>10232</td></tr>\n",
       "\t<tr><td>1998 </td><td>Q2   </td><td>6117 </td><td>16881</td><td>4100 </td><td> 8237</td><td>5616 </td><td> 8461</td><td>6362 </td><td> 9540</td></tr>\n",
       "\t<tr><td>1998 </td><td>Q3   </td><td>6282 </td><td>13495</td><td>4418 </td><td> 6731</td><td>8298 </td><td>13175</td><td>7965 </td><td>12385</td></tr>\n",
       "\t<tr><td>1998 </td><td>Q4   </td><td>6368 </td><td>15963</td><td>5157 </td><td> 7675</td><td>6674 </td><td> 9092</td><td>6864 </td><td>13098</td></tr>\n",
       "\t<tr><td>1999 </td><td>Q1   </td><td>6602 </td><td>22718</td><td>5550 </td><td>13581</td><td>9168 </td><td>10224</td><td>8908 </td><td>10140</td></tr>\n",
       "\t<tr><td>1999 </td><td>Q2   </td><td>5651 </td><td>14775</td><td>3902 </td><td> 7883</td><td>7351 </td><td> 9672</td><td>7690 </td><td> 9948</td></tr>\n",
       "</tbody>\n",
       "</table>\n"
      ],
      "text/latex": [
       "\\begin{tabular}{r|llllllllll}\n",
       " Year & Quarter & Product.1 & Product.2 & Product.3 & Product.4 & Product.5 & Product.6 & Product.7 & Product.8\\\\\n",
       "\\hline\n",
       "\t 1998  & Q1    & 7320  & 21782 & 4865  & 14054 & 9055  &  8016 & 9178  & 10232\\\\\n",
       "\t 1998  & Q2    & 6117  & 16881 & 4100  &  8237 & 5616  &  8461 & 6362  &  9540\\\\\n",
       "\t 1998  & Q3    & 6282  & 13495 & 4418  &  6731 & 8298  & 13175 & 7965  & 12385\\\\\n",
       "\t 1998  & Q4    & 6368  & 15963 & 5157  &  7675 & 6674  &  9092 & 6864  & 13098\\\\\n",
       "\t 1999  & Q1    & 6602  & 22718 & 5550  & 13581 & 9168  & 10224 & 8908  & 10140\\\\\n",
       "\t 1999  & Q2    & 5651  & 14775 & 3902  &  7883 & 7351  &  9672 & 7690  &  9948\\\\\n",
       "\\end{tabular}\n"
      ],
      "text/markdown": [
       "\n",
       "Year | Quarter | Product.1 | Product.2 | Product.3 | Product.4 | Product.5 | Product.6 | Product.7 | Product.8 | \n",
       "|---|---|---|---|---|---|\n",
       "| 1998  | Q1    | 7320  | 21782 | 4865  | 14054 | 9055  |  8016 | 9178  | 10232 | \n",
       "| 1998  | Q2    | 6117  | 16881 | 4100  |  8237 | 5616  |  8461 | 6362  |  9540 | \n",
       "| 1998  | Q3    | 6282  | 13495 | 4418  |  6731 | 8298  | 13175 | 7965  | 12385 | \n",
       "| 1998  | Q4    | 6368  | 15963 | 5157  |  7675 | 6674  |  9092 | 6864  | 13098 | \n",
       "| 1999  | Q1    | 6602  | 22718 | 5550  | 13581 | 9168  | 10224 | 8908  | 10140 | \n",
       "| 1999  | Q2    | 5651  | 14775 | 3902  |  7883 | 7351  |  9672 | 7690  |  9948 | \n",
       "\n",
       "\n"
      ],
      "text/plain": [
       "  Year Quarter Product.1 Product.2 Product.3 Product.4 Product.5 Product.6\n",
       "1 1998 Q1      7320      21782     4865      14054     9055       8016    \n",
       "2 1998 Q2      6117      16881     4100       8237     5616       8461    \n",
       "3 1998 Q3      6282      13495     4418       6731     8298      13175    \n",
       "4 1998 Q4      6368      15963     5157       7675     6674       9092    \n",
       "5 1999 Q1      6602      22718     5550      13581     9168      10224    \n",
       "6 1999 Q2      5651      14775     3902       7883     7351       9672    \n",
       "  Product.7 Product.8\n",
       "1 9178      10232    \n",
       "2 6362       9540    \n",
       "3 7965      12385    \n",
       "4 6864      13098    \n",
       "5 8908      10140    \n",
       "6 7690       9948    "
      ]
     },
     "metadata": {},
     "output_type": "display_data"
    }
   ],
   "source": [
    "## Clean missing value\n",
    "\n",
    "# Remove columns with only NA\n",
    "\n",
    "data <- Filter(function(x)!all(is.na(x)), data)\n",
    "dim(data) # 56 10\n",
    "\n",
    "# Remove columns with too many NAs \n",
    "\n",
    "data <- Filter(function(x)!(sum(is.na(x))/length(x)) > 0.1, data)\n",
    "dim(data) # 56 10\n",
    "\n",
    "# Remove rows with only missing values\n",
    "\n",
    "missingRows <- apply(data, 1, function(x) all(is.na(x)))\n",
    "data <- data[!missingRows, ]\n",
    "dim(data)\n",
    "\n",
    "# Replace NA values with last-observation-carried-forward method\n",
    "\n",
    "data[,3:10] <- lapply(data[,3:10], function(x) { \n",
    "  x <- na.locf(x)\n",
    "  x\n",
    "})\n",
    "\n",
    "head(data)"
   ]
  },
  {
   "cell_type": "markdown",
   "metadata": {},
   "source": [
    "## Model building\n",
    "\n",
    "We aim to build a time series model to fit the whole product booking quantity data. \n",
    "\n",
    "### Hierachical time series model\n",
    "\n",
    "Hierarchical time series forecasting methods can be implemented in the hts package (Hyndman et al. 2014) for R (R Core Team 2013).\n",
    "\n",
    "We can use hts function to create a hierarchical time series. The required inputs are the bottom-level time series, and information about the hierarchical structure. Knowing from the product category dataset, we can try this hierarchical structure: the series for product 1 and 2 belong to category A, series for product 3-8 belong to the category B.\n",
    "\n",
    "Let's have a look at this 3-level hierarchical time series."
   ]
  },
  {
   "cell_type": "code",
   "execution_count": 6,
   "metadata": {},
   "outputs": [
    {
     "data": {
      "text/html": [
       "<table>\n",
       "<thead><tr><th scope=col>Product.1</th><th scope=col>Product.2</th><th scope=col>Product.3</th><th scope=col>Product.4</th><th scope=col>Product.5</th><th scope=col>Product.6</th><th scope=col>Product.7</th><th scope=col>Product.8</th></tr></thead>\n",
       "<tbody>\n",
       "\t<tr><td>7320 </td><td>21782</td><td>4865 </td><td>14054</td><td>9055 </td><td> 8016</td><td>9178 </td><td>10232</td></tr>\n",
       "\t<tr><td>6117 </td><td>16881</td><td>4100 </td><td> 8237</td><td>5616 </td><td> 8461</td><td>6362 </td><td> 9540</td></tr>\n",
       "\t<tr><td>6282 </td><td>13495</td><td>4418 </td><td> 6731</td><td>8298 </td><td>13175</td><td>7965 </td><td>12385</td></tr>\n",
       "\t<tr><td>6368 </td><td>15963</td><td>5157 </td><td> 7675</td><td>6674 </td><td> 9092</td><td>6864 </td><td>13098</td></tr>\n",
       "\t<tr><td>6602 </td><td>22718</td><td>5550 </td><td>13581</td><td>9168 </td><td>10224</td><td>8908 </td><td>10140</td></tr>\n",
       "\t<tr><td>5651 </td><td>14775</td><td>3902 </td><td> 7883</td><td>7351 </td><td> 9672</td><td>7690 </td><td> 9948</td></tr>\n",
       "</tbody>\n",
       "</table>\n"
      ],
      "text/latex": [
       "\\begin{tabular}{llllllll}\n",
       " Product.1 & Product.2 & Product.3 & Product.4 & Product.5 & Product.6 & Product.7 & Product.8\\\\\n",
       "\\hline\n",
       "\t 7320  & 21782 & 4865  & 14054 & 9055  &  8016 & 9178  & 10232\\\\\n",
       "\t 6117  & 16881 & 4100  &  8237 & 5616  &  8461 & 6362  &  9540\\\\\n",
       "\t 6282  & 13495 & 4418  &  6731 & 8298  & 13175 & 7965  & 12385\\\\\n",
       "\t 6368  & 15963 & 5157  &  7675 & 6674  &  9092 & 6864  & 13098\\\\\n",
       "\t 6602  & 22718 & 5550  & 13581 & 9168  & 10224 & 8908  & 10140\\\\\n",
       "\t 5651  & 14775 & 3902  &  7883 & 7351  &  9672 & 7690  &  9948\\\\\n",
       "\\end{tabular}\n"
      ],
      "text/markdown": [
       "\n",
       "Product.1 | Product.2 | Product.3 | Product.4 | Product.5 | Product.6 | Product.7 | Product.8 | \n",
       "|---|---|---|---|---|---|\n",
       "| 7320  | 21782 | 4865  | 14054 | 9055  |  8016 | 9178  | 10232 | \n",
       "| 6117  | 16881 | 4100  |  8237 | 5616  |  8461 | 6362  |  9540 | \n",
       "| 6282  | 13495 | 4418  |  6731 | 8298  | 13175 | 7965  | 12385 | \n",
       "| 6368  | 15963 | 5157  |  7675 | 6674  |  9092 | 6864  | 13098 | \n",
       "| 6602  | 22718 | 5550  | 13581 | 9168  | 10224 | 8908  | 10140 | \n",
       "| 5651  | 14775 | 3902  |  7883 | 7351  |  9672 | 7690  |  9948 | \n",
       "\n",
       "\n"
      ],
      "text/plain": [
       "     Product.1 Product.2 Product.3 Product.4 Product.5 Product.6 Product.7\n",
       "[1,] 7320      21782     4865      14054     9055       8016     9178     \n",
       "[2,] 6117      16881     4100       8237     5616       8461     6362     \n",
       "[3,] 6282      13495     4418       6731     8298      13175     7965     \n",
       "[4,] 6368      15963     5157       7675     6674       9092     6864     \n",
       "[5,] 6602      22718     5550      13581     9168      10224     8908     \n",
       "[6,] 5651      14775     3902       7883     7351       9672     7690     \n",
       "     Product.8\n",
       "[1,] 10232    \n",
       "[2,]  9540    \n",
       "[3,] 12385    \n",
       "[4,] 13098    \n",
       "[5,] 10140    \n",
       "[6,]  9948    "
      ]
     },
     "metadata": {},
     "output_type": "display_data"
    }
   ],
   "source": [
    "## Hierarchical time series modeling \n",
    "\n",
    "# Construct time series matrix\n",
    "\n",
    "bts <- ts(data[, 3:10], frequency=4, start=c(1998, 1))\n",
    "\n",
    "head(bts)"
   ]
  },
  {
   "cell_type": "code",
   "execution_count": 7,
   "metadata": {},
   "outputs": [
    {
     "name": "stderr",
     "output_type": "stream",
     "text": [
      "Since argument characters are not specified, the default labelling system is used.\n"
     ]
    },
    {
     "data": {
      "text/html": [
       "<dl>\n",
       "\t<dt>$bts</dt>\n",
       "\t\t<dd><table>\n",
       "<thead><tr><th scope=col>Product.1</th><th scope=col>Product.2</th><th scope=col>Product.3</th><th scope=col>Product.4</th><th scope=col>Product.5</th><th scope=col>Product.6</th><th scope=col>Product.7</th><th scope=col>Product.8</th></tr></thead>\n",
       "<tbody>\n",
       "\t<tr><td>7320 </td><td>21782</td><td>4865 </td><td>14054</td><td>9055 </td><td> 8016</td><td> 9178</td><td>10232</td></tr>\n",
       "\t<tr><td>6117 </td><td>16881</td><td>4100 </td><td> 8237</td><td>5616 </td><td> 8461</td><td> 6362</td><td> 9540</td></tr>\n",
       "\t<tr><td>6282 </td><td>13495</td><td>4418 </td><td> 6731</td><td>8298 </td><td>13175</td><td> 7965</td><td>12385</td></tr>\n",
       "\t<tr><td>6368 </td><td>15963</td><td>5157 </td><td> 7675</td><td>6674 </td><td> 9092</td><td> 6864</td><td>13098</td></tr>\n",
       "\t<tr><td>6602 </td><td>22718</td><td>5550 </td><td>13581</td><td>9168 </td><td>10224</td><td> 8908</td><td>10140</td></tr>\n",
       "\t<tr><td>5651 </td><td>14775</td><td>3902 </td><td> 7883</td><td>7351 </td><td> 9672</td><td> 7690</td><td> 9948</td></tr>\n",
       "\t<tr><td>5710 </td><td>14634</td><td>3970 </td><td> 6516</td><td>8322 </td><td>14376</td><td> 7998</td><td>10653</td></tr>\n",
       "\t<tr><td>6509 </td><td>15669</td><td>3825 </td><td> 6834</td><td>7017 </td><td>10620</td><td> 7068</td><td>10781</td></tr>\n",
       "\t<tr><td>6589 </td><td>20474</td><td>5706 </td><td>12561</td><td>8706 </td><td> 9668</td><td>10484</td><td>11462</td></tr>\n",
       "\t<tr><td>5392 </td><td>14522</td><td>4228 </td><td> 7801</td><td>7045 </td><td> 8885</td><td> 7377</td><td> 9217</td></tr>\n",
       "\t<tr><td>7156 </td><td>13761</td><td>4066 </td><td> 6393</td><td>8501 </td><td>11980</td><td> 6965</td><td>11586</td></tr>\n",
       "\t<tr><td>8426 </td><td>15378</td><td>4617 </td><td> 7976</td><td>6856 </td><td>10241</td><td> 8360</td><td>11005</td></tr>\n",
       "\t<tr><td>6981 </td><td>19960</td><td>5675 </td><td>13000</td><td>7706 </td><td> 9460</td><td> 7765</td><td> 9842</td></tr>\n",
       "\t<tr><td>6333 </td><td>15152</td><td>4585 </td><td> 7478</td><td>7017 </td><td> 9804</td><td> 7192</td><td>10412</td></tr>\n",
       "\t<tr><td>6062 </td><td>13806</td><td>4743 </td><td> 6754</td><td>8728 </td><td>12406</td><td> 7391</td><td> 9946</td></tr>\n",
       "\t<tr><td>6088 </td><td>14125</td><td>5724 </td><td> 7314</td><td>8302 </td><td>10667</td><td> 7325</td><td>11901</td></tr>\n",
       "\t<tr><td>5579 </td><td>21047</td><td>5378 </td><td>13045</td><td>9173 </td><td> 9915</td><td> 9009</td><td>10786</td></tr>\n",
       "\t<tr><td>5780 </td><td>14835</td><td>3884 </td><td> 7904</td><td>6612 </td><td> 7600</td><td> 7023</td><td> 9888</td></tr>\n",
       "\t<tr><td>5833 </td><td>16198</td><td>4978 </td><td> 6808</td><td>7955 </td><td>14730</td><td> 7825</td><td>11221</td></tr>\n",
       "\t<tr><td>5977 </td><td>16748</td><td>5289 </td><td> 8521</td><td>8964 </td><td> 9950</td><td> 7310</td><td>12892</td></tr>\n",
       "\t<tr><td>6203 </td><td>21010</td><td>5220 </td><td>12193</td><td>9970 </td><td> 9952</td><td> 8110</td><td>11205</td></tr>\n",
       "\t<tr><td>5313 </td><td>14527</td><td>4722 </td><td> 8460</td><td>7131 </td><td> 9448</td><td> 7170</td><td>10420</td></tr>\n",
       "\t<tr><td>5119 </td><td>14095</td><td>4124 </td><td> 6886</td><td>8271 </td><td>13691</td><td> 7020</td><td>12189</td></tr>\n",
       "\t<tr><td>5734 </td><td>15309</td><td>4680 </td><td> 7938</td><td>7927 </td><td>11110</td><td> 7129</td><td>11835</td></tr>\n",
       "\t<tr><td>6167 </td><td>20957</td><td>4878 </td><td>13186</td><td>9087 </td><td> 9279</td><td> 9665</td><td>12619</td></tr>\n",
       "\t<tr><td>5708 </td><td>14813</td><td>4868 </td><td> 8723</td><td>6995 </td><td> 9161</td><td> 7671</td><td> 9040</td></tr>\n",
       "\t<tr><td>5021 </td><td>14590</td><td>4177 </td><td> 6807</td><td>8756 </td><td>15078</td><td> 7391</td><td>12017</td></tr>\n",
       "\t<tr><td>5357 </td><td>15773</td><td>4176 </td><td> 7635</td><td>8491 </td><td> 9616</td><td> 7885</td><td>11291</td></tr>\n",
       "\t<tr><td>5901 </td><td>21953</td><td>5438 </td><td>13129</td><td>9325 </td><td>10281</td><td> 8927</td><td>11040</td></tr>\n",
       "\t<tr><td>4491 </td><td>13146</td><td>3870 </td><td> 6744</td><td>6835 </td><td> 8853</td><td> 6955</td><td> 8741</td></tr>\n",
       "\t<tr><td>5092 </td><td>13025</td><td>4370 </td><td> 5820</td><td>8269 </td><td>11874</td><td> 7867</td><td>10523</td></tr>\n",
       "\t<tr><td>5246 </td><td>12835</td><td>4377 </td><td> 7111</td><td>6986 </td><td>10990</td><td> 6794</td><td> 9051</td></tr>\n",
       "\t<tr><td>6819 </td><td>20139</td><td>5704 </td><td>12397</td><td>9156 </td><td> 9528</td><td> 8018</td><td>10885</td></tr>\n",
       "\t<tr><td>5663 </td><td>14433</td><td>5285 </td><td> 7600</td><td>7077 </td><td> 9417</td><td> 8276</td><td> 9769</td></tr>\n",
       "\t<tr><td>4997 </td><td>13912</td><td>4165 </td><td> 6049</td><td>7044 </td><td>12744</td><td> 7487</td><td> 9546</td></tr>\n",
       "\t<tr><td>5751 </td><td>14294</td><td>4700 </td><td> 7393</td><td>8552 </td><td>10930</td><td> 7941</td><td> 9989</td></tr>\n",
       "\t<tr><td>6521 </td><td>19774</td><td>4703 </td><td>14071</td><td>8705 </td><td>11103</td><td> 9992</td><td>11372</td></tr>\n",
       "\t<tr><td>4910 </td><td>14682</td><td>4488 </td><td> 7286</td><td>7750 </td><td> 9958</td><td> 8648</td><td> 9675</td></tr>\n",
       "\t<tr><td>4784 </td><td>12651</td><td>4698 </td><td> 5800</td><td>8163 </td><td>14211</td><td> 7650</td><td>11555</td></tr>\n",
       "\t<tr><td>5844 </td><td>14475</td><td>5192 </td><td> 7472</td><td>7806 </td><td>10207</td><td> 7938</td><td>10270</td></tr>\n",
       "\t<tr><td>6252 </td><td>21300</td><td>5217 </td><td>13768</td><td>8466 </td><td>12449</td><td> 8597</td><td>10963</td></tr>\n",
       "\t<tr><td>5023 </td><td>12874</td><td>4201 </td><td> 6844</td><td>6345 </td><td> 9091</td><td> 6598</td><td> 8786</td></tr>\n",
       "\t<tr><td>5264 </td><td>12216</td><td>5042 </td><td> 5911</td><td>7151 </td><td>12049</td><td> 7910</td><td>10870</td></tr>\n",
       "\t<tr><td>4708 </td><td>14938</td><td>5087 </td><td> 7160</td><td>8299 </td><td> 9095</td><td> 7110</td><td> 8281</td></tr>\n",
       "\t<tr><td>5356 </td><td>19148</td><td>4688 </td><td>11017</td><td>7830 </td><td> 8918</td><td> 8004</td><td> 9417</td></tr>\n",
       "\t<tr><td>4769 </td><td>11967</td><td>4392 </td><td> 7054</td><td>5812 </td><td> 9174</td><td> 6686</td><td> 8082</td></tr>\n",
       "\t<tr><td>4118 </td><td>12199</td><td>4609 </td><td> 6460</td><td>7348 </td><td>14094</td><td> 6817</td><td> 9758</td></tr>\n",
       "\t<tr><td>5264 </td><td>14866</td><td>4879 </td><td> 7216</td><td>6521 </td><td>10465</td><td> 7317</td><td> 7991</td></tr>\n",
       "\t<tr><td>6000 </td><td>18314</td><td>4844 </td><td>11791</td><td>7545 </td><td> 9350</td><td> 8134</td><td> 8657</td></tr>\n",
       "\t<tr><td>4283 </td><td>12653</td><td>4437 </td><td> 7319</td><td>6566 </td><td> 9266</td><td> 7597</td><td> 7583</td></tr>\n",
       "\t<tr><td>5253 </td><td>14023</td><td>4821 </td><td> 5990</td><td>7717 </td><td>13311</td><td> 6252</td><td>10167</td></tr>\n",
       "\t<tr><td>5355 </td><td>13785</td><td>4621 </td><td> 7245</td><td>7992 </td><td> 9915</td><td> 6886</td><td> 7722</td></tr>\n",
       "\t<tr><td>6193 </td><td>19021</td><td>5163 </td><td>11910</td><td>6401 </td><td> 6335</td><td> 7336</td><td> 9915</td></tr>\n",
       "\t<tr><td>5102 </td><td>13989</td><td>4502 </td><td> 7769</td><td>7747 </td><td> 9348</td><td> 6394</td><td> 8055</td></tr>\n",
       "\t<tr><td>5577 </td><td>13627</td><td>4966 </td><td> 6574</td><td>7283 </td><td>14285</td><td> 7268</td><td>10919</td></tr>\n",
       "\t<tr><td>5064 </td><td>13951</td><td>4474 </td><td> 7571</td><td>7359 </td><td>10112</td><td> 7637</td><td> 8726</td></tr>\n",
       "</tbody>\n",
       "</table>\n",
       "</dd>\n",
       "\t<dt>$nodes</dt>\n",
       "\t\t<dd><dl>\n",
       "\t<dt>$`Level 1`</dt>\n",
       "\t\t<dd>2</dd>\n",
       "\t<dt>$`Level 2`</dt>\n",
       "\t\t<dd><ol class=list-inline>\n",
       "\t<li>2</li>\n",
       "\t<li>6</li>\n",
       "</ol>\n",
       "</dd>\n",
       "</dl>\n",
       "</dd>\n",
       "\t<dt>$labels</dt>\n",
       "\t\t<dd><dl>\n",
       "\t<dt>$Total</dt>\n",
       "\t\t<dd>'Total'</dd>\n",
       "\t<dt>$Category</dt>\n",
       "\t\t<dd><ol class=list-inline>\n",
       "\t<li>'Category.A'</li>\n",
       "\t<li>'Category.B'</li>\n",
       "</ol>\n",
       "</dd>\n",
       "\t<dt>$Product</dt>\n",
       "\t\t<dd><ol class=list-inline>\n",
       "\t<li>'Product.1'</li>\n",
       "\t<li>'Product.2'</li>\n",
       "\t<li>'Product.3'</li>\n",
       "\t<li>'Product.4'</li>\n",
       "\t<li>'Product.5'</li>\n",
       "\t<li>'Product.6'</li>\n",
       "\t<li>'Product.7'</li>\n",
       "\t<li>'Product.8'</li>\n",
       "</ol>\n",
       "</dd>\n",
       "</dl>\n",
       "</dd>\n",
       "</dl>\n"
      ],
      "text/latex": [
       "\\begin{description}\n",
       "\\item[\\$bts] \\begin{tabular}{llllllll}\n",
       " Product.1 & Product.2 & Product.3 & Product.4 & Product.5 & Product.6 & Product.7 & Product.8\\\\\n",
       "\\hline\n",
       "\t 7320  & 21782 & 4865  & 14054 & 9055  &  8016 &  9178 & 10232\\\\\n",
       "\t 6117  & 16881 & 4100  &  8237 & 5616  &  8461 &  6362 &  9540\\\\\n",
       "\t 6282  & 13495 & 4418  &  6731 & 8298  & 13175 &  7965 & 12385\\\\\n",
       "\t 6368  & 15963 & 5157  &  7675 & 6674  &  9092 &  6864 & 13098\\\\\n",
       "\t 6602  & 22718 & 5550  & 13581 & 9168  & 10224 &  8908 & 10140\\\\\n",
       "\t 5651  & 14775 & 3902  &  7883 & 7351  &  9672 &  7690 &  9948\\\\\n",
       "\t 5710  & 14634 & 3970  &  6516 & 8322  & 14376 &  7998 & 10653\\\\\n",
       "\t 6509  & 15669 & 3825  &  6834 & 7017  & 10620 &  7068 & 10781\\\\\n",
       "\t 6589  & 20474 & 5706  & 12561 & 8706  &  9668 & 10484 & 11462\\\\\n",
       "\t 5392  & 14522 & 4228  &  7801 & 7045  &  8885 &  7377 &  9217\\\\\n",
       "\t 7156  & 13761 & 4066  &  6393 & 8501  & 11980 &  6965 & 11586\\\\\n",
       "\t 8426  & 15378 & 4617  &  7976 & 6856  & 10241 &  8360 & 11005\\\\\n",
       "\t 6981  & 19960 & 5675  & 13000 & 7706  &  9460 &  7765 &  9842\\\\\n",
       "\t 6333  & 15152 & 4585  &  7478 & 7017  &  9804 &  7192 & 10412\\\\\n",
       "\t 6062  & 13806 & 4743  &  6754 & 8728  & 12406 &  7391 &  9946\\\\\n",
       "\t 6088  & 14125 & 5724  &  7314 & 8302  & 10667 &  7325 & 11901\\\\\n",
       "\t 5579  & 21047 & 5378  & 13045 & 9173  &  9915 &  9009 & 10786\\\\\n",
       "\t 5780  & 14835 & 3884  &  7904 & 6612  &  7600 &  7023 &  9888\\\\\n",
       "\t 5833  & 16198 & 4978  &  6808 & 7955  & 14730 &  7825 & 11221\\\\\n",
       "\t 5977  & 16748 & 5289  &  8521 & 8964  &  9950 &  7310 & 12892\\\\\n",
       "\t 6203  & 21010 & 5220  & 12193 & 9970  &  9952 &  8110 & 11205\\\\\n",
       "\t 5313  & 14527 & 4722  &  8460 & 7131  &  9448 &  7170 & 10420\\\\\n",
       "\t 5119  & 14095 & 4124  &  6886 & 8271  & 13691 &  7020 & 12189\\\\\n",
       "\t 5734  & 15309 & 4680  &  7938 & 7927  & 11110 &  7129 & 11835\\\\\n",
       "\t 6167  & 20957 & 4878  & 13186 & 9087  &  9279 &  9665 & 12619\\\\\n",
       "\t 5708  & 14813 & 4868  &  8723 & 6995  &  9161 &  7671 &  9040\\\\\n",
       "\t 5021  & 14590 & 4177  &  6807 & 8756  & 15078 &  7391 & 12017\\\\\n",
       "\t 5357  & 15773 & 4176  &  7635 & 8491  &  9616 &  7885 & 11291\\\\\n",
       "\t 5901  & 21953 & 5438  & 13129 & 9325  & 10281 &  8927 & 11040\\\\\n",
       "\t 4491  & 13146 & 3870  &  6744 & 6835  &  8853 &  6955 &  8741\\\\\n",
       "\t 5092  & 13025 & 4370  &  5820 & 8269  & 11874 &  7867 & 10523\\\\\n",
       "\t 5246  & 12835 & 4377  &  7111 & 6986  & 10990 &  6794 &  9051\\\\\n",
       "\t 6819  & 20139 & 5704  & 12397 & 9156  &  9528 &  8018 & 10885\\\\\n",
       "\t 5663  & 14433 & 5285  &  7600 & 7077  &  9417 &  8276 &  9769\\\\\n",
       "\t 4997  & 13912 & 4165  &  6049 & 7044  & 12744 &  7487 &  9546\\\\\n",
       "\t 5751  & 14294 & 4700  &  7393 & 8552  & 10930 &  7941 &  9989\\\\\n",
       "\t 6521  & 19774 & 4703  & 14071 & 8705  & 11103 &  9992 & 11372\\\\\n",
       "\t 4910  & 14682 & 4488  &  7286 & 7750  &  9958 &  8648 &  9675\\\\\n",
       "\t 4784  & 12651 & 4698  &  5800 & 8163  & 14211 &  7650 & 11555\\\\\n",
       "\t 5844  & 14475 & 5192  &  7472 & 7806  & 10207 &  7938 & 10270\\\\\n",
       "\t 6252  & 21300 & 5217  & 13768 & 8466  & 12449 &  8597 & 10963\\\\\n",
       "\t 5023  & 12874 & 4201  &  6844 & 6345  &  9091 &  6598 &  8786\\\\\n",
       "\t 5264  & 12216 & 5042  &  5911 & 7151  & 12049 &  7910 & 10870\\\\\n",
       "\t 4708  & 14938 & 5087  &  7160 & 8299  &  9095 &  7110 &  8281\\\\\n",
       "\t 5356  & 19148 & 4688  & 11017 & 7830  &  8918 &  8004 &  9417\\\\\n",
       "\t 4769  & 11967 & 4392  &  7054 & 5812  &  9174 &  6686 &  8082\\\\\n",
       "\t 4118  & 12199 & 4609  &  6460 & 7348  & 14094 &  6817 &  9758\\\\\n",
       "\t 5264  & 14866 & 4879  &  7216 & 6521  & 10465 &  7317 &  7991\\\\\n",
       "\t 6000  & 18314 & 4844  & 11791 & 7545  &  9350 &  8134 &  8657\\\\\n",
       "\t 4283  & 12653 & 4437  &  7319 & 6566  &  9266 &  7597 &  7583\\\\\n",
       "\t 5253  & 14023 & 4821  &  5990 & 7717  & 13311 &  6252 & 10167\\\\\n",
       "\t 5355  & 13785 & 4621  &  7245 & 7992  &  9915 &  6886 &  7722\\\\\n",
       "\t 6193  & 19021 & 5163  & 11910 & 6401  &  6335 &  7336 &  9915\\\\\n",
       "\t 5102  & 13989 & 4502  &  7769 & 7747  &  9348 &  6394 &  8055\\\\\n",
       "\t 5577  & 13627 & 4966  &  6574 & 7283  & 14285 &  7268 & 10919\\\\\n",
       "\t 5064  & 13951 & 4474  &  7571 & 7359  & 10112 &  7637 &  8726\\\\\n",
       "\\end{tabular}\n",
       "\n",
       "\\item[\\$nodes] \\begin{description}\n",
       "\\item[\\$`Level 1`] 2\n",
       "\\item[\\$`Level 2`] \\begin{enumerate*}\n",
       "\\item 2\n",
       "\\item 6\n",
       "\\end{enumerate*}\n",
       "\n",
       "\\end{description}\n",
       "\n",
       "\\item[\\$labels] \\begin{description}\n",
       "\\item[\\$Total] 'Total'\n",
       "\\item[\\$Category] \\begin{enumerate*}\n",
       "\\item 'Category.A'\n",
       "\\item 'Category.B'\n",
       "\\end{enumerate*}\n",
       "\n",
       "\\item[\\$Product] \\begin{enumerate*}\n",
       "\\item 'Product.1'\n",
       "\\item 'Product.2'\n",
       "\\item 'Product.3'\n",
       "\\item 'Product.4'\n",
       "\\item 'Product.5'\n",
       "\\item 'Product.6'\n",
       "\\item 'Product.7'\n",
       "\\item 'Product.8'\n",
       "\\end{enumerate*}\n",
       "\n",
       "\\end{description}\n",
       "\n",
       "\\end{description}\n"
      ],
      "text/markdown": [
       "$bts\n",
       ":   \n",
       "Product.1 | Product.2 | Product.3 | Product.4 | Product.5 | Product.6 | Product.7 | Product.8 | \n",
       "|---|---|---|---|---|---|---|---|---|---|---|---|---|---|---|---|---|---|---|---|---|---|---|---|---|---|---|---|---|---|---|---|---|---|---|---|---|---|---|---|---|---|---|---|---|---|---|---|---|---|---|---|---|---|---|---|\n",
       "| 7320  | 21782 | 4865  | 14054 | 9055  |  8016 |  9178 | 10232 | \n",
       "| 6117  | 16881 | 4100  |  8237 | 5616  |  8461 |  6362 |  9540 | \n",
       "| 6282  | 13495 | 4418  |  6731 | 8298  | 13175 |  7965 | 12385 | \n",
       "| 6368  | 15963 | 5157  |  7675 | 6674  |  9092 |  6864 | 13098 | \n",
       "| 6602  | 22718 | 5550  | 13581 | 9168  | 10224 |  8908 | 10140 | \n",
       "| 5651  | 14775 | 3902  |  7883 | 7351  |  9672 |  7690 |  9948 | \n",
       "| 5710  | 14634 | 3970  |  6516 | 8322  | 14376 |  7998 | 10653 | \n",
       "| 6509  | 15669 | 3825  |  6834 | 7017  | 10620 |  7068 | 10781 | \n",
       "| 6589  | 20474 | 5706  | 12561 | 8706  |  9668 | 10484 | 11462 | \n",
       "| 5392  | 14522 | 4228  |  7801 | 7045  |  8885 |  7377 |  9217 | \n",
       "| 7156  | 13761 | 4066  |  6393 | 8501  | 11980 |  6965 | 11586 | \n",
       "| 8426  | 15378 | 4617  |  7976 | 6856  | 10241 |  8360 | 11005 | \n",
       "| 6981  | 19960 | 5675  | 13000 | 7706  |  9460 |  7765 |  9842 | \n",
       "| 6333  | 15152 | 4585  |  7478 | 7017  |  9804 |  7192 | 10412 | \n",
       "| 6062  | 13806 | 4743  |  6754 | 8728  | 12406 |  7391 |  9946 | \n",
       "| 6088  | 14125 | 5724  |  7314 | 8302  | 10667 |  7325 | 11901 | \n",
       "| 5579  | 21047 | 5378  | 13045 | 9173  |  9915 |  9009 | 10786 | \n",
       "| 5780  | 14835 | 3884  |  7904 | 6612  |  7600 |  7023 |  9888 | \n",
       "| 5833  | 16198 | 4978  |  6808 | 7955  | 14730 |  7825 | 11221 | \n",
       "| 5977  | 16748 | 5289  |  8521 | 8964  |  9950 |  7310 | 12892 | \n",
       "| 6203  | 21010 | 5220  | 12193 | 9970  |  9952 |  8110 | 11205 | \n",
       "| 5313  | 14527 | 4722  |  8460 | 7131  |  9448 |  7170 | 10420 | \n",
       "| 5119  | 14095 | 4124  |  6886 | 8271  | 13691 |  7020 | 12189 | \n",
       "| 5734  | 15309 | 4680  |  7938 | 7927  | 11110 |  7129 | 11835 | \n",
       "| 6167  | 20957 | 4878  | 13186 | 9087  |  9279 |  9665 | 12619 | \n",
       "| 5708  | 14813 | 4868  |  8723 | 6995  |  9161 |  7671 |  9040 | \n",
       "| 5021  | 14590 | 4177  |  6807 | 8756  | 15078 |  7391 | 12017 | \n",
       "| 5357  | 15773 | 4176  |  7635 | 8491  |  9616 |  7885 | 11291 | \n",
       "| 5901  | 21953 | 5438  | 13129 | 9325  | 10281 |  8927 | 11040 | \n",
       "| 4491  | 13146 | 3870  |  6744 | 6835  |  8853 |  6955 |  8741 | \n",
       "| 5092  | 13025 | 4370  |  5820 | 8269  | 11874 |  7867 | 10523 | \n",
       "| 5246  | 12835 | 4377  |  7111 | 6986  | 10990 |  6794 |  9051 | \n",
       "| 6819  | 20139 | 5704  | 12397 | 9156  |  9528 |  8018 | 10885 | \n",
       "| 5663  | 14433 | 5285  |  7600 | 7077  |  9417 |  8276 |  9769 | \n",
       "| 4997  | 13912 | 4165  |  6049 | 7044  | 12744 |  7487 |  9546 | \n",
       "| 5751  | 14294 | 4700  |  7393 | 8552  | 10930 |  7941 |  9989 | \n",
       "| 6521  | 19774 | 4703  | 14071 | 8705  | 11103 |  9992 | 11372 | \n",
       "| 4910  | 14682 | 4488  |  7286 | 7750  |  9958 |  8648 |  9675 | \n",
       "| 4784  | 12651 | 4698  |  5800 | 8163  | 14211 |  7650 | 11555 | \n",
       "| 5844  | 14475 | 5192  |  7472 | 7806  | 10207 |  7938 | 10270 | \n",
       "| 6252  | 21300 | 5217  | 13768 | 8466  | 12449 |  8597 | 10963 | \n",
       "| 5023  | 12874 | 4201  |  6844 | 6345  |  9091 |  6598 |  8786 | \n",
       "| 5264  | 12216 | 5042  |  5911 | 7151  | 12049 |  7910 | 10870 | \n",
       "| 4708  | 14938 | 5087  |  7160 | 8299  |  9095 |  7110 |  8281 | \n",
       "| 5356  | 19148 | 4688  | 11017 | 7830  |  8918 |  8004 |  9417 | \n",
       "| 4769  | 11967 | 4392  |  7054 | 5812  |  9174 |  6686 |  8082 | \n",
       "| 4118  | 12199 | 4609  |  6460 | 7348  | 14094 |  6817 |  9758 | \n",
       "| 5264  | 14866 | 4879  |  7216 | 6521  | 10465 |  7317 |  7991 | \n",
       "| 6000  | 18314 | 4844  | 11791 | 7545  |  9350 |  8134 |  8657 | \n",
       "| 4283  | 12653 | 4437  |  7319 | 6566  |  9266 |  7597 |  7583 | \n",
       "| 5253  | 14023 | 4821  |  5990 | 7717  | 13311 |  6252 | 10167 | \n",
       "| 5355  | 13785 | 4621  |  7245 | 7992  |  9915 |  6886 |  7722 | \n",
       "| 6193  | 19021 | 5163  | 11910 | 6401  |  6335 |  7336 |  9915 | \n",
       "| 5102  | 13989 | 4502  |  7769 | 7747  |  9348 |  6394 |  8055 | \n",
       "| 5577  | 13627 | 4966  |  6574 | 7283  | 14285 |  7268 | 10919 | \n",
       "| 5064  | 13951 | 4474  |  7571 | 7359  | 10112 |  7637 |  8726 | \n",
       "\n",
       "\n",
       "\n",
       "$nodes\n",
       ":   $`Level 1`\n",
       ":   2\n",
       "$`Level 2`\n",
       ":   1. 2\n",
       "2. 6\n",
       "\n",
       "\n",
       "\n",
       "\n",
       "\n",
       "\n",
       "$labels\n",
       ":   $Total\n",
       ":   'Total'\n",
       "$Category\n",
       ":   1. 'Category.A'\n",
       "2. 'Category.B'\n",
       "\n",
       "\n",
       "\n",
       "$Product\n",
       ":   1. 'Product.1'\n",
       "2. 'Product.2'\n",
       "3. 'Product.3'\n",
       "4. 'Product.4'\n",
       "5. 'Product.5'\n",
       "6. 'Product.6'\n",
       "7. 'Product.7'\n",
       "8. 'Product.8'\n",
       "\n",
       "\n",
       "\n",
       "\n",
       "\n",
       "\n",
       "\n",
       "\n"
      ],
      "text/plain": [
       "$bts\n",
       "        Product.1 Product.2 Product.3 Product.4 Product.5 Product.6 Product.7\n",
       "1998 Q1      7320     21782      4865     14054      9055      8016      9178\n",
       "1998 Q2      6117     16881      4100      8237      5616      8461      6362\n",
       "1998 Q3      6282     13495      4418      6731      8298     13175      7965\n",
       "1998 Q4      6368     15963      5157      7675      6674      9092      6864\n",
       "1999 Q1      6602     22718      5550     13581      9168     10224      8908\n",
       "1999 Q2      5651     14775      3902      7883      7351      9672      7690\n",
       "1999 Q3      5710     14634      3970      6516      8322     14376      7998\n",
       "1999 Q4      6509     15669      3825      6834      7017     10620      7068\n",
       "2000 Q1      6589     20474      5706     12561      8706      9668     10484\n",
       "2000 Q2      5392     14522      4228      7801      7045      8885      7377\n",
       "2000 Q3      7156     13761      4066      6393      8501     11980      6965\n",
       "2000 Q4      8426     15378      4617      7976      6856     10241      8360\n",
       "2001 Q1      6981     19960      5675     13000      7706      9460      7765\n",
       "2001 Q2      6333     15152      4585      7478      7017      9804      7192\n",
       "2001 Q3      6062     13806      4743      6754      8728     12406      7391\n",
       "2001 Q4      6088     14125      5724      7314      8302     10667      7325\n",
       "2002 Q1      5579     21047      5378     13045      9173      9915      9009\n",
       "2002 Q2      5780     14835      3884      7904      6612      7600      7023\n",
       "2002 Q3      5833     16198      4978      6808      7955     14730      7825\n",
       "2002 Q4      5977     16748      5289      8521      8964      9950      7310\n",
       "2003 Q1      6203     21010      5220     12193      9970      9952      8110\n",
       "2003 Q2      5313     14527      4722      8460      7131      9448      7170\n",
       "2003 Q3      5119     14095      4124      6886      8271     13691      7020\n",
       "2003 Q4      5734     15309      4680      7938      7927     11110      7129\n",
       "2004 Q1      6167     20957      4878     13186      9087      9279      9665\n",
       "2004 Q2      5708     14813      4868      8723      6995      9161      7671\n",
       "2004 Q3      5021     14590      4177      6807      8756     15078      7391\n",
       "2004 Q4      5357     15773      4176      7635      8491      9616      7885\n",
       "2005 Q1      5901     21953      5438     13129      9325     10281      8927\n",
       "2005 Q2      4491     13146      3870      6744      6835      8853      6955\n",
       "2005 Q3      5092     13025      4370      5820      8269     11874      7867\n",
       "2005 Q4      5246     12835      4377      7111      6986     10990      6794\n",
       "2006 Q1      6819     20139      5704     12397      9156      9528      8018\n",
       "2006 Q2      5663     14433      5285      7600      7077      9417      8276\n",
       "2006 Q3      4997     13912      4165      6049      7044     12744      7487\n",
       "2006 Q4      5751     14294      4700      7393      8552     10930      7941\n",
       "2007 Q1      6521     19774      4703     14071      8705     11103      9992\n",
       "2007 Q2      4910     14682      4488      7286      7750      9958      8648\n",
       "2007 Q3      4784     12651      4698      5800      8163     14211      7650\n",
       "2007 Q4      5844     14475      5192      7472      7806     10207      7938\n",
       "2008 Q1      6252     21300      5217     13768      8466     12449      8597\n",
       "2008 Q2      5023     12874      4201      6844      6345      9091      6598\n",
       "2008 Q3      5264     12216      5042      5911      7151     12049      7910\n",
       "2008 Q4      4708     14938      5087      7160      8299      9095      7110\n",
       "2009 Q1      5356     19148      4688     11017      7830      8918      8004\n",
       "2009 Q2      4769     11967      4392      7054      5812      9174      6686\n",
       "2009 Q3      4118     12199      4609      6460      7348     14094      6817\n",
       "2009 Q4      5264     14866      4879      7216      6521     10465      7317\n",
       "2010 Q1      6000     18314      4844     11791      7545      9350      8134\n",
       "2010 Q2      4283     12653      4437      7319      6566      9266      7597\n",
       "2010 Q3      5253     14023      4821      5990      7717     13311      6252\n",
       "2010 Q4      5355     13785      4621      7245      7992      9915      6886\n",
       "2011 Q1      6193     19021      5163     11910      6401      6335      7336\n",
       "2011 Q2      5102     13989      4502      7769      7747      9348      6394\n",
       "2011 Q3      5577     13627      4966      6574      7283     14285      7268\n",
       "2011 Q4      5064     13951      4474      7571      7359     10112      7637\n",
       "        Product.8\n",
       "1998 Q1     10232\n",
       "1998 Q2      9540\n",
       "1998 Q3     12385\n",
       "1998 Q4     13098\n",
       "1999 Q1     10140\n",
       "1999 Q2      9948\n",
       "1999 Q3     10653\n",
       "1999 Q4     10781\n",
       "2000 Q1     11462\n",
       "2000 Q2      9217\n",
       "2000 Q3     11586\n",
       "2000 Q4     11005\n",
       "2001 Q1      9842\n",
       "2001 Q2     10412\n",
       "2001 Q3      9946\n",
       "2001 Q4     11901\n",
       "2002 Q1     10786\n",
       "2002 Q2      9888\n",
       "2002 Q3     11221\n",
       "2002 Q4     12892\n",
       "2003 Q1     11205\n",
       "2003 Q2     10420\n",
       "2003 Q3     12189\n",
       "2003 Q4     11835\n",
       "2004 Q1     12619\n",
       "2004 Q2      9040\n",
       "2004 Q3     12017\n",
       "2004 Q4     11291\n",
       "2005 Q1     11040\n",
       "2005 Q2      8741\n",
       "2005 Q3     10523\n",
       "2005 Q4      9051\n",
       "2006 Q1     10885\n",
       "2006 Q2      9769\n",
       "2006 Q3      9546\n",
       "2006 Q4      9989\n",
       "2007 Q1     11372\n",
       "2007 Q2      9675\n",
       "2007 Q3     11555\n",
       "2007 Q4     10270\n",
       "2008 Q1     10963\n",
       "2008 Q2      8786\n",
       "2008 Q3     10870\n",
       "2008 Q4      8281\n",
       "2009 Q1      9417\n",
       "2009 Q2      8082\n",
       "2009 Q3      9758\n",
       "2009 Q4      7991\n",
       "2010 Q1      8657\n",
       "2010 Q2      7583\n",
       "2010 Q3     10167\n",
       "2010 Q4      7722\n",
       "2011 Q1      9915\n",
       "2011 Q2      8055\n",
       "2011 Q3     10919\n",
       "2011 Q4      8726\n",
       "\n",
       "$nodes\n",
       "$nodes$`Level 1`\n",
       "[1] 2\n",
       "\n",
       "$nodes$`Level 2`\n",
       "[1] 2 6\n",
       "\n",
       "\n",
       "$labels\n",
       "$labels$Total\n",
       "[1] \"Total\"\n",
       "\n",
       "$labels$Category\n",
       "[1] \"Category.A\" \"Category.B\"\n",
       "\n",
       "$labels$Product\n",
       "[1] \"Product.1\" \"Product.2\" \"Product.3\" \"Product.4\" \"Product.5\" \"Product.6\"\n",
       "[7] \"Product.7\" \"Product.8\"\n",
       "\n"
      ]
     },
     "metadata": {},
     "output_type": "display_data"
    },
    {
     "name": "stdout",
     "output_type": "stream",
     "text": [
      "Hierarchical Time Series \n",
      "3 Levels \n",
      "Number of nodes at each level: 1 2 8 \n",
      "Total number of series: 11 \n",
      "Number of observations per series: 56 \n",
      "Top level series: \n",
      "      Qtr1  Qtr2  Qtr3  Qtr4\n",
      "1998 84502 65314 72749 70891\n",
      "1999 86891 66872 72179 68323\n",
      "2000 85650 64467 70408 72859\n",
      "2001 80389 67973 69836 71446\n",
      "2002 83932 63526 75548 75651\n",
      "2003 83863 67191 71395 71662\n",
      "2004 85838 66979 73837 70224\n",
      "2005 85994 59635 66840 63390\n",
      "2006 82646 67520 65944 69550\n",
      "2007 86241 67397 69512 69204\n",
      "2008 87012 59762 66413 64678\n",
      "2009 74378 57936 65403 64519\n",
      "2010 74635 59704 67534 63521\n",
      "2011 72274 62906 70499 64894\n"
     ]
    }
   ],
   "source": [
    "# Create 3-level hierarchical time series\n",
    "\n",
    "demandgts <- hts(bts, nodes=list(2, c(2, 6)))\n",
    "\n",
    "# Rename the nodes of the hierarchy\n",
    "\n",
    "demandgts$labels$`Level 1` <- c(\"Category.A\", \"Category.B\")\n",
    "demandgts$labels$`Level 2` <- c(\"Product.1\", \"Product.2\", \"Product.3\", \"Product.4\", \n",
    "                                \"Product.5\", \"Product.6\", \"Product.7\", \"Product.8\")\n",
    "names(demandgts$labels) <- c(\"Total\", \"Category\", \"Product\")\n",
    "\n",
    "head(demandgts)\n",
    "print(demandgts)"
   ]
  },
  {
   "cell_type": "code",
   "execution_count": 8,
   "metadata": {},
   "outputs": [
    {
     "data": {
      "text/html": [
       "<table>\n",
       "<thead><tr><th scope=col>Total</th><th scope=col>Category.A</th><th scope=col>Category.B</th><th scope=col>Product.1</th><th scope=col>Product.2</th><th scope=col>Product.3</th><th scope=col>Product.4</th><th scope=col>Product.5</th><th scope=col>Product.6</th><th scope=col>Product.7</th><th scope=col>Product.8</th></tr></thead>\n",
       "<tbody>\n",
       "\t<tr><td>84502</td><td>29102</td><td>55400</td><td>7320 </td><td>21782</td><td>4865 </td><td>14054</td><td>9055 </td><td> 8016</td><td>9178 </td><td>10232</td></tr>\n",
       "\t<tr><td>65314</td><td>22998</td><td>42316</td><td>6117 </td><td>16881</td><td>4100 </td><td> 8237</td><td>5616 </td><td> 8461</td><td>6362 </td><td> 9540</td></tr>\n",
       "\t<tr><td>72749</td><td>19777</td><td>52972</td><td>6282 </td><td>13495</td><td>4418 </td><td> 6731</td><td>8298 </td><td>13175</td><td>7965 </td><td>12385</td></tr>\n",
       "\t<tr><td>70891</td><td>22331</td><td>48560</td><td>6368 </td><td>15963</td><td>5157 </td><td> 7675</td><td>6674 </td><td> 9092</td><td>6864 </td><td>13098</td></tr>\n",
       "\t<tr><td>86891</td><td>29320</td><td>57571</td><td>6602 </td><td>22718</td><td>5550 </td><td>13581</td><td>9168 </td><td>10224</td><td>8908 </td><td>10140</td></tr>\n",
       "\t<tr><td>66872</td><td>20426</td><td>46446</td><td>5651 </td><td>14775</td><td>3902 </td><td> 7883</td><td>7351 </td><td> 9672</td><td>7690 </td><td> 9948</td></tr>\n",
       "</tbody>\n",
       "</table>\n"
      ],
      "text/latex": [
       "\\begin{tabular}{lllllllllll}\n",
       " Total & Category.A & Category.B & Product.1 & Product.2 & Product.3 & Product.4 & Product.5 & Product.6 & Product.7 & Product.8\\\\\n",
       "\\hline\n",
       "\t 84502 & 29102 & 55400 & 7320  & 21782 & 4865  & 14054 & 9055  &  8016 & 9178  & 10232\\\\\n",
       "\t 65314 & 22998 & 42316 & 6117  & 16881 & 4100  &  8237 & 5616  &  8461 & 6362  &  9540\\\\\n",
       "\t 72749 & 19777 & 52972 & 6282  & 13495 & 4418  &  6731 & 8298  & 13175 & 7965  & 12385\\\\\n",
       "\t 70891 & 22331 & 48560 & 6368  & 15963 & 5157  &  7675 & 6674  &  9092 & 6864  & 13098\\\\\n",
       "\t 86891 & 29320 & 57571 & 6602  & 22718 & 5550  & 13581 & 9168  & 10224 & 8908  & 10140\\\\\n",
       "\t 66872 & 20426 & 46446 & 5651  & 14775 & 3902  &  7883 & 7351  &  9672 & 7690  &  9948\\\\\n",
       "\\end{tabular}\n"
      ],
      "text/markdown": [
       "\n",
       "Total | Category.A | Category.B | Product.1 | Product.2 | Product.3 | Product.4 | Product.5 | Product.6 | Product.7 | Product.8 | \n",
       "|---|---|---|---|---|---|\n",
       "| 84502 | 29102 | 55400 | 7320  | 21782 | 4865  | 14054 | 9055  |  8016 | 9178  | 10232 | \n",
       "| 65314 | 22998 | 42316 | 6117  | 16881 | 4100  |  8237 | 5616  |  8461 | 6362  |  9540 | \n",
       "| 72749 | 19777 | 52972 | 6282  | 13495 | 4418  |  6731 | 8298  | 13175 | 7965  | 12385 | \n",
       "| 70891 | 22331 | 48560 | 6368  | 15963 | 5157  |  7675 | 6674  |  9092 | 6864  | 13098 | \n",
       "| 86891 | 29320 | 57571 | 6602  | 22718 | 5550  | 13581 | 9168  | 10224 | 8908  | 10140 | \n",
       "| 66872 | 20426 | 46446 | 5651  | 14775 | 3902  |  7883 | 7351  |  9672 | 7690  |  9948 | \n",
       "\n",
       "\n"
      ],
      "text/plain": [
       "     Total Category.A Category.B Product.1 Product.2 Product.3 Product.4\n",
       "[1,] 84502 29102      55400      7320      21782     4865      14054    \n",
       "[2,] 65314 22998      42316      6117      16881     4100       8237    \n",
       "[3,] 72749 19777      52972      6282      13495     4418       6731    \n",
       "[4,] 70891 22331      48560      6368      15963     5157       7675    \n",
       "[5,] 86891 29320      57571      6602      22718     5550      13581    \n",
       "[6,] 66872 20426      46446      5651      14775     3902       7883    \n",
       "     Product.5 Product.6 Product.7 Product.8\n",
       "[1,] 9055       8016     9178      10232    \n",
       "[2,] 5616       8461     6362       9540    \n",
       "[3,] 8298      13175     7965      12385    \n",
       "[4,] 6674       9092     6864      13098    \n",
       "[5,] 9168      10224     8908      10140    \n",
       "[6,] 7351       9672     7690       9948    "
      ]
     },
     "metadata": {},
     "output_type": "display_data"
    }
   ],
   "source": [
    "# Aggregate the hierarchy time series\n",
    "\n",
    "alldemand <- aggts(demandgts) \n",
    "\n",
    "head(alldemand)"
   ]
  },
  {
   "cell_type": "code",
   "execution_count": 9,
   "metadata": {},
   "outputs": [
    {
     "data": {
      "image/png": "[encoded data removed]",
      "text/plain": [
       "Plot with title \"Product\""
      ]
     },
     "metadata": {},
     "output_type": "display_data"
    }
   ],
   "source": [
    "plot(demandgts, levels=c(0, 1, 2))"
   ]
  },
  {
   "cell_type": "code",
   "execution_count": 10,
   "metadata": {
    "collapsed": true
   },
   "outputs": [],
   "source": [
    "# Set up the training sample and testing sample\n",
    "\n",
    "traingts <- window(demandgts, start=c(1998, 1), end=c(2009, 4))\n",
    "testgts <- window(demandgts, start=c(2010, 1), end=c(2011, 4))\n",
    "\n",
    "demandfcast <- forecast(object  = traingts, \n",
    "                        h       = 8, \n",
    "                        method  = \"bu\", \n",
    "                        fmethod = \"arima\",\n",
    "                        keep.fitted = TRUE)"
   ]
  },
  {
   "cell_type": "code",
   "execution_count": 11,
   "metadata": {},
   "outputs": [
    {
     "data": {
      "text/html": [
       "<table>\n",
       "<thead><tr><th scope=col>Total</th><th scope=col>Category.A</th><th scope=col>Category.B</th><th scope=col>Product.1</th><th scope=col>Product.2</th><th scope=col>Product.3</th><th scope=col>Product.4</th><th scope=col>Product.5</th><th scope=col>Product.6</th><th scope=col>Product.7</th><th scope=col>Product.8</th></tr></thead>\n",
       "<tbody>\n",
       "\t<tr><td>80910.32 </td><td>25503.27 </td><td>55407.04 </td><td>5664.790 </td><td>19838.48 </td><td>4517.327 </td><td>12756.530</td><td>8421.304 </td><td>10418.541</td><td>9269.589 </td><td>10023.754</td></tr>\n",
       "\t<tr><td>60955.16 </td><td>17453.11 </td><td>43502.04 </td><td>4556.185 </td><td>12896.93 </td><td>4580.720 </td><td> 7140.095</td><td>6485.093 </td><td> 9190.637</td><td>7737.238 </td><td> 8368.259</td></tr>\n",
       "\t<tr><td>65529.24 </td><td>16506.67 </td><td>49022.56 </td><td>4515.956 </td><td>11990.72 </td><td>4599.585 </td><td> 6089.073</td><td>7538.714 </td><td>13150.783</td><td>7595.421 </td><td>10048.987</td></tr>\n",
       "\t<tr><td>65158.95 </td><td>19359.68 </td><td>45799.27 </td><td>5017.735 </td><td>14341.94 </td><td>4764.995 </td><td> 7330.315</td><td>7478.676 </td><td>10180.782</td><td>7597.098 </td><td> 8447.406</td></tr>\n",
       "\t<tr><td>79841.63 </td><td>25218.80 </td><td>54622.83 </td><td>5390.090 </td><td>19828.71 </td><td>4715.358 </td><td>13041.323</td><td>8421.304 </td><td>10051.862</td><td>8528.523 </td><td> 9864.458</td></tr>\n",
       "\t<tr><td>59045.18 </td><td>16654.93 </td><td>42390.25 </td><td>4417.989 </td><td>12236.94 </td><td>4715.358 </td><td> 6991.294</td><td>6485.093 </td><td> 9186.572</td><td>6802.969 </td><td> 8208.963</td></tr>\n",
       "\t<tr><td>65235.18 </td><td>16124.68 </td><td>49110.50 </td><td>4377.760 </td><td>11746.92 </td><td>4715.358 </td><td> 6046.043</td><td>7538.714 </td><td>13381.272</td><td>7539.418 </td><td> 9889.692</td></tr>\n",
       "\t<tr><td>64429.14 </td><td>19211.76 </td><td>45217.38 </td><td>4879.539 </td><td>14332.22 </td><td>4715.358 </td><td> 7237.603</td><td>7478.676 </td><td>10250.235</td><td>7247.400 </td><td> 8288.111</td></tr>\n",
       "</tbody>\n",
       "</table>\n"
      ],
      "text/latex": [
       "\\begin{tabular}{lllllllllll}\n",
       " Total & Category.A & Category.B & Product.1 & Product.2 & Product.3 & Product.4 & Product.5 & Product.6 & Product.7 & Product.8\\\\\n",
       "\\hline\n",
       "\t 80910.32  & 25503.27  & 55407.04  & 5664.790  & 19838.48  & 4517.327  & 12756.530 & 8421.304  & 10418.541 & 9269.589  & 10023.754\\\\\n",
       "\t 60955.16  & 17453.11  & 43502.04  & 4556.185  & 12896.93  & 4580.720  &  7140.095 & 6485.093  &  9190.637 & 7737.238  &  8368.259\\\\\n",
       "\t 65529.24  & 16506.67  & 49022.56  & 4515.956  & 11990.72  & 4599.585  &  6089.073 & 7538.714  & 13150.783 & 7595.421  & 10048.987\\\\\n",
       "\t 65158.95  & 19359.68  & 45799.27  & 5017.735  & 14341.94  & 4764.995  &  7330.315 & 7478.676  & 10180.782 & 7597.098  &  8447.406\\\\\n",
       "\t 79841.63  & 25218.80  & 54622.83  & 5390.090  & 19828.71  & 4715.358  & 13041.323 & 8421.304  & 10051.862 & 8528.523  &  9864.458\\\\\n",
       "\t 59045.18  & 16654.93  & 42390.25  & 4417.989  & 12236.94  & 4715.358  &  6991.294 & 6485.093  &  9186.572 & 6802.969  &  8208.963\\\\\n",
       "\t 65235.18  & 16124.68  & 49110.50  & 4377.760  & 11746.92  & 4715.358  &  6046.043 & 7538.714  & 13381.272 & 7539.418  &  9889.692\\\\\n",
       "\t 64429.14  & 19211.76  & 45217.38  & 4879.539  & 14332.22  & 4715.358  &  7237.603 & 7478.676  & 10250.235 & 7247.400  &  8288.111\\\\\n",
       "\\end{tabular}\n"
      ],
      "text/markdown": [
       "\n",
       "Total | Category.A | Category.B | Product.1 | Product.2 | Product.3 | Product.4 | Product.5 | Product.6 | Product.7 | Product.8 | \n",
       "|---|---|---|---|---|---|---|---|\n",
       "| 80910.32  | 25503.27  | 55407.04  | 5664.790  | 19838.48  | 4517.327  | 12756.530 | 8421.304  | 10418.541 | 9269.589  | 10023.754 | \n",
       "| 60955.16  | 17453.11  | 43502.04  | 4556.185  | 12896.93  | 4580.720  |  7140.095 | 6485.093  |  9190.637 | 7737.238  |  8368.259 | \n",
       "| 65529.24  | 16506.67  | 49022.56  | 4515.956  | 11990.72  | 4599.585  |  6089.073 | 7538.714  | 13150.783 | 7595.421  | 10048.987 | \n",
       "| 65158.95  | 19359.68  | 45799.27  | 5017.735  | 14341.94  | 4764.995  |  7330.315 | 7478.676  | 10180.782 | 7597.098  |  8447.406 | \n",
       "| 79841.63  | 25218.80  | 54622.83  | 5390.090  | 19828.71  | 4715.358  | 13041.323 | 8421.304  | 10051.862 | 8528.523  |  9864.458 | \n",
       "| 59045.18  | 16654.93  | 42390.25  | 4417.989  | 12236.94  | 4715.358  |  6991.294 | 6485.093  |  9186.572 | 6802.969  |  8208.963 | \n",
       "| 65235.18  | 16124.68  | 49110.50  | 4377.760  | 11746.92  | 4715.358  |  6046.043 | 7538.714  | 13381.272 | 7539.418  |  9889.692 | \n",
       "| 64429.14  | 19211.76  | 45217.38  | 4879.539  | 14332.22  | 4715.358  |  7237.603 | 7478.676  | 10250.235 | 7247.400  |  8288.111 | \n",
       "\n",
       "\n"
      ],
      "text/plain": [
       "     Total    Category.A Category.B Product.1 Product.2 Product.3 Product.4\n",
       "[1,] 80910.32 25503.27   55407.04   5664.790  19838.48  4517.327  12756.530\n",
       "[2,] 60955.16 17453.11   43502.04   4556.185  12896.93  4580.720   7140.095\n",
       "[3,] 65529.24 16506.67   49022.56   4515.956  11990.72  4599.585   6089.073\n",
       "[4,] 65158.95 19359.68   45799.27   5017.735  14341.94  4764.995   7330.315\n",
       "[5,] 79841.63 25218.80   54622.83   5390.090  19828.71  4715.358  13041.323\n",
       "[6,] 59045.18 16654.93   42390.25   4417.989  12236.94  4715.358   6991.294\n",
       "[7,] 65235.18 16124.68   49110.50   4377.760  11746.92  4715.358   6046.043\n",
       "[8,] 64429.14 19211.76   45217.38   4879.539  14332.22  4715.358   7237.603\n",
       "     Product.5 Product.6 Product.7 Product.8\n",
       "[1,] 8421.304  10418.541 9269.589  10023.754\n",
       "[2,] 6485.093   9190.637 7737.238   8368.259\n",
       "[3,] 7538.714  13150.783 7595.421  10048.987\n",
       "[4,] 7478.676  10180.782 7597.098   8447.406\n",
       "[5,] 8421.304  10051.862 8528.523   9864.458\n",
       "[6,] 6485.093   9186.572 6802.969   8208.963\n",
       "[7,] 7538.714  13381.272 7539.418   9889.692\n",
       "[8,] 7478.676  10250.235 7247.400   8288.111"
      ]
     },
     "metadata": {},
     "output_type": "display_data"
    }
   ],
   "source": [
    "# Explore and visualize the forecasted hts\n",
    "\n",
    "aggts(demandfcast)"
   ]
  },
  {
   "cell_type": "code",
   "execution_count": 12,
   "metadata": {},
   "outputs": [
    {
     "name": "stdout",
     "output_type": "stream",
     "text": [
      "Hierarchical Time Series \n",
      "3 Levels \n",
      "Number of nodes at each level: 1 2 8 \n",
      "Total number of series: 11 \n",
      "Number of observations in each historical series: 48 \n",
      "Number of forecasts per series: 8 \n",
      "Top level series of forecasts: \n",
      "         Qtr1     Qtr2     Qtr3     Qtr4\n",
      "2010 80910.32 60955.16 65529.24 65158.95\n",
      "2011 79841.63 59045.18 65235.18 64429.14\n",
      "\n",
      "Method: Bottom-up forecasts \n",
      "Forecast method: Arima \n",
      "In-sample error measures at the bottom level: \n",
      "       Product.1   Product.2   Product.3    Product.4   Product.5   Product.6\n",
      "ME     1.8928374  -4.8896114  -1.2204182 -142.3460472 -14.0070931 228.3550637\n",
      "RMSE 499.0780725 964.9571426 478.7228408  628.7161059 698.1542998 900.4151901\n",
      "MAE  382.1519945 729.0429985 397.0558637  441.4047924 512.9018563 683.3038439\n",
      "MAPE   6.5989311   4.7198640   8.5556556    5.2848997   6.7025632   6.1783808\n",
      "MPE   -0.6422800  -0.3170459  -1.0771666   -1.9827212  -0.6736957   1.7844811\n",
      "MASE   0.6440435   0.7252355   0.8330373    0.8035503   0.7797554   0.5915236\n",
      "       Product.7   Product.8\n",
      "ME   -13.8547048  -8.7052069\n",
      "RMSE 673.2750519 964.8422175\n",
      "MAE  511.9939875 768.0957031\n",
      "MAPE   6.5367455   7.4557366\n",
      "MPE   -0.6566870  -0.7626077\n",
      "MASE   0.6766102   0.7945506\n"
     ]
    }
   ],
   "source": [
    "summary(demandfcast)"
   ]
  },
  {
   "cell_type": "code",
   "execution_count": 13,
   "metadata": {},
   "outputs": [
    {
     "data": {
      "image/png": "[encoded data removed]",
      "text/plain": [
       "Plot with title \"Product\""
      ]
     },
     "metadata": {},
     "output_type": "display_data"
    }
   ],
   "source": [
    "plot(demandfcast)"
   ]
  },
  {
   "cell_type": "code",
   "execution_count": 14,
   "metadata": {},
   "outputs": [
    {
     "data": {
      "text/html": [
       "<table>\n",
       "<thead><tr><th></th><th scope=col>Total</th><th scope=col>Category.A</th><th scope=col>Category.B</th><th scope=col>Product.1</th><th scope=col>Product.2</th><th scope=col>Product.3</th><th scope=col>Product.4</th><th scope=col>Product.5</th><th scope=col>Product.6</th><th scope=col>Product.7</th><th scope=col>Product.8</th></tr></thead>\n",
       "<tbody>\n",
       "\t<tr><th scope=row>ME</th><td>-642.2230633 </td><td> 769.636570  </td><td>-1411.8596334</td><td>500.869555   </td><td> 268.767016  </td><td> 62.9927473  </td><td>-57.9094758  </td><td>-154.696664  </td><td>-486.0854327 </td><td>-601.7071073 </td><td>-174.453701  </td></tr>\n",
       "\t<tr><th scope=row>RMSE</th><td>4297.4666959 </td><td>1762.617949  </td><td> 3417.5795191</td><td>654.667459   </td><td>1333.511536  </td><td>265.5443482  </td><td>637.9615525  </td><td> 923.545538  </td><td>1410.7055499 </td><td> 824.2037457 </td><td> 733.337312  </td></tr>\n",
       "\t<tr><th scope=row>MAE</th><td>3540.7892002 </td><td>1301.541868  </td><td> 2479.5780546</td><td>569.165681   </td><td>1147.337404  </td><td>248.6004751  </td><td>512.4007731  </td><td> 663.302664  </td><td> 811.2695039 </td><td> 699.1071823 </td><td> 583.391671  </td></tr>\n",
       "\t<tr><th scope=row>MAPE</th><td>   5.1052214 </td><td>   6.663495  </td><td>    5.2033361</td><td> 10.476458   </td><td>   7.760610  </td><td>  5.1928806  </td><td>  5.6760678  </td><td>   9.321062  </td><td>  10.5272499 </td><td>   9.8886736 </td><td>   6.695530  </td></tr>\n",
       "\t<tr><th scope=row>MPE</th><td>  -0.7830154 </td><td>   4.126951  </td><td>   -2.9651999</td><td>  8.881871   </td><td>   2.442825  </td><td>  1.0706089  </td><td>  0.5462723  </td><td>  -2.757447  </td><td>  -8.0096851 </td><td>  -8.6133027 </td><td>  -2.666663  </td></tr>\n",
       "\t<tr><th scope=row>MASE</th><td>   1.0928975 </td><td>   1.050883  </td><td>    0.9203532</td><td>  0.959219   </td><td>   1.141345  </td><td>  0.5215726  </td><td>  0.9327941  </td><td>   1.008407  </td><td>   0.7023011 </td><td>   0.9238839 </td><td>   0.603485  </td></tr>\n",
       "</tbody>\n",
       "</table>\n"
      ],
      "text/latex": [
       "\\begin{tabular}{r|lllllllllll}\n",
       "  & Total & Category.A & Category.B & Product.1 & Product.2 & Product.3 & Product.4 & Product.5 & Product.6 & Product.7 & Product.8\\\\\n",
       "\\hline\n",
       "\tME & -642.2230633  &  769.636570   & -1411.8596334 & 500.869555    &  268.767016   &  62.9927473   & -57.9094758   & -154.696664   & -486.0854327  & -601.7071073  & -174.453701  \\\\\n",
       "\tRMSE & 4297.4666959  & 1762.617949   &  3417.5795191 & 654.667459    & 1333.511536   & 265.5443482   & 637.9615525   &  923.545538   & 1410.7055499  &  824.2037457  &  733.337312  \\\\\n",
       "\tMAE & 3540.7892002  & 1301.541868   &  2479.5780546 & 569.165681    & 1147.337404   & 248.6004751   & 512.4007731   &  663.302664   &  811.2695039  &  699.1071823  &  583.391671  \\\\\n",
       "\tMAPE &    5.1052214  &    6.663495   &     5.2033361 &  10.476458    &    7.760610   &   5.1928806   &   5.6760678   &    9.321062   &   10.5272499  &    9.8886736  &    6.695530  \\\\\n",
       "\tMPE &   -0.7830154  &    4.126951   &    -2.9651999 &   8.881871    &    2.442825   &   1.0706089   &   0.5462723   &   -2.757447   &   -8.0096851  &   -8.6133027  &   -2.666663  \\\\\n",
       "\tMASE &    1.0928975  &    1.050883   &     0.9203532 &   0.959219    &    1.141345   &   0.5215726   &   0.9327941   &    1.008407   &    0.7023011  &    0.9238839  &    0.603485  \\\\\n",
       "\\end{tabular}\n"
      ],
      "text/markdown": [
       "\n",
       "| <!--/--> | Total | Category.A | Category.B | Product.1 | Product.2 | Product.3 | Product.4 | Product.5 | Product.6 | Product.7 | Product.8 | \n",
       "|---|---|---|---|---|---|\n",
       "| ME | -642.2230633  |  769.636570   | -1411.8596334 | 500.869555    |  268.767016   |  62.9927473   | -57.9094758   | -154.696664   | -486.0854327  | -601.7071073  | -174.453701   | \n",
       "| RMSE | 4297.4666959  | 1762.617949   |  3417.5795191 | 654.667459    | 1333.511536   | 265.5443482   | 637.9615525   |  923.545538   | 1410.7055499  |  824.2037457  |  733.337312   | \n",
       "| MAE | 3540.7892002  | 1301.541868   |  2479.5780546 | 569.165681    | 1147.337404   | 248.6004751   | 512.4007731   |  663.302664   |  811.2695039  |  699.1071823  |  583.391671   | \n",
       "| MAPE |    5.1052214  |    6.663495   |     5.2033361 |  10.476458    |    7.760610   |   5.1928806   |   5.6760678   |    9.321062   |   10.5272499  |    9.8886736  |    6.695530   | \n",
       "| MPE |   -0.7830154  |    4.126951   |    -2.9651999 |   8.881871    |    2.442825   |   1.0706089   |   0.5462723   |   -2.757447   |   -8.0096851  |   -8.6133027  |   -2.666663   | \n",
       "| MASE |    1.0928975  |    1.050883   |     0.9203532 |   0.959219    |    1.141345   |   0.5215726   |   0.9327941   |    1.008407   |    0.7023011  |    0.9238839  |    0.603485   | \n",
       "\n",
       "\n"
      ],
      "text/plain": [
       "     Total        Category.A  Category.B    Product.1  Product.2   Product.3  \n",
       "ME   -642.2230633  769.636570 -1411.8596334 500.869555  268.767016  62.9927473\n",
       "RMSE 4297.4666959 1762.617949  3417.5795191 654.667459 1333.511536 265.5443482\n",
       "MAE  3540.7892002 1301.541868  2479.5780546 569.165681 1147.337404 248.6004751\n",
       "MAPE    5.1052214    6.663495     5.2033361  10.476458    7.760610   5.1928806\n",
       "MPE    -0.7830154    4.126951    -2.9651999   8.881871    2.442825   1.0706089\n",
       "MASE    1.0928975    1.050883     0.9203532   0.959219    1.141345   0.5215726\n",
       "     Product.4   Product.5   Product.6    Product.7    Product.8  \n",
       "ME   -57.9094758 -154.696664 -486.0854327 -601.7071073 -174.453701\n",
       "RMSE 637.9615525  923.545538 1410.7055499  824.2037457  733.337312\n",
       "MAE  512.4007731  663.302664  811.2695039  699.1071823  583.391671\n",
       "MAPE   5.6760678    9.321062   10.5272499    9.8886736    6.695530\n",
       "MPE    0.5462723   -2.757447   -8.0096851   -8.6133027   -2.666663\n",
       "MASE   0.9327941    1.008407    0.7023011    0.9238839    0.603485"
      ]
     },
     "metadata": {},
     "output_type": "display_data"
    }
   ],
   "source": [
    "# Calculate perforemance metrics\n",
    "\n",
    "accuracy.gts(demandfcast, testgts, levels=c(0, 1, 2))"
   ]
  },
  {
   "cell_type": "markdown",
   "metadata": {},
   "source": [
    "### Cross-validation for hierarchical time series\n",
    "\n",
    "Next, we use cross validation to compare performance of different forecast methods for hierarchical time series model."
   ]
  },
  {
   "cell_type": "code",
   "execution_count": 15,
   "metadata": {
    "collapsed": true
   },
   "outputs": [],
   "source": [
    "## Time series cross validation\n",
    "\n",
    "# Define function that runs hierarchical forecast on training data set\n",
    "# and returns forecast on test data set\n",
    "\n",
    "forecast_hts <- function (traindata, testdata, htsmethod, tsmethod) {\n",
    "  \n",
    "  # Forecasting horizon\n",
    "  \n",
    "  horiz =  dim(aggts(testdata))[1]\n",
    "\n",
    "  # Run hierarchical forecast\n",
    "  \n",
    "  hts_fcast <- forecast(object  = traindata, \n",
    "                        h       = horiz,\n",
    "                        method  = htsmethod,\n",
    "                        fmethod = tsmethod,\n",
    "                        keep.fitted = TRUE)\n",
    "  \n",
    "  # Return forecasted ts\n",
    "  \n",
    "  hts_fcast\n",
    "  \n",
    "  # Return evaluation metrics at the top level\n",
    "  #fcast_acc <- accuracy.gts(hts_fcast, test = testdata, levels = 0)\n",
    "}"
   ]
  },
  {
   "cell_type": "code",
   "execution_count": null,
   "metadata": {},
   "outputs": [
    {
     "name": "stderr",
     "output_type": "stream",
     "text": [
      "Warning message:\n",
      "\"executing %dopar% sequentially: no parallel backend registered\"Warning message in window.default(x, ...):\n",
      "\"'end' value not changed\"Warning message in window.default(x, ...):\n",
      "\"'end' value not changed\""
     ]
    }
   ],
   "source": [
    "# Set parameters for cross validation\n",
    "\n",
    "k <- 48 \n",
    "n <- dim(demandgts$bts)[1]\n",
    "st <- tsp(demandgts$bts)[1]+(k-2)/4\n",
    "\n",
    "# Define parameter space for hts\n",
    "\n",
    "hts_method <- c(\"bu\", \"comb\", \"tdgsa\")\n",
    "ts_method <- c(\"arima\", \"ets\", \"rw\")\n",
    "\n",
    "param_space <- expand.grid(hts_method, \n",
    "                           ts_method, \n",
    "                           stringsAsFactors = FALSE)\n",
    "\n",
    "colnames(param_space) <- c(\"hts_method\", \"ts_method\")\n",
    "\n",
    "# Define empty matric matrix\n",
    "\n",
    "mape11 <- mape12 <- mape13 <- mape21 <- mape22 <- mape23 <- mape31 <- mape32 <- mape33 <- matrix(NA,n-k,4)\n",
    "\n",
    "# Conduct time series cross validation for hts forecasting in parallel\n",
    "\n",
    "rxSetComputeContext(\"localpar\")\n",
    "\n",
    "tscv_time <- system.time({\n",
    "  \n",
    "foreach(i=1:(n-k)) %dopar%\n",
    "{\n",
    "  datashort <- window(demandgts, end=st + i/4)\n",
    "  datanext <- window(demandgts, start=st + (i+1)/4, end=st + (i+4)/4)\n",
    "  \n",
    "  # Run many distributed jobs\n",
    "    \n",
    "  rxResult <- rxExec(FUN=forecast_hts,  \n",
    "                     traindata=datashort, \n",
    "                     testdata=datanext, \n",
    "                     htsmethod=rxElemArg(param_space$hts_method),  \n",
    "                     tsmethod=rxElemArg(param_space$ts_method),\n",
    "                     consoleOutput=TRUE,\n",
    "                     packagesToLoad=c('hts'))\n",
    "  \n",
    "  horiz <- dim(datanext$bts)[1]\n",
    "  \n",
    "  mape11[i, 1:horiz] <- accuracy(aggts(rxResult[[1]]), aggts(datanext))[1, \"MAPE\"]\n",
    "  mape12[i, 1:horiz] <- accuracy(aggts(rxResult[[2]]), aggts(datanext))[1, \"MAPE\"]\n",
    "  mape13[i, 1:horiz] <- accuracy(aggts(rxResult[[3]]), aggts(datanext))[1, \"MAPE\"]\n",
    "  mape21[i, 1:horiz] <- accuracy(aggts(rxResult[[4]]), aggts(datanext))[1, \"MAPE\"]\n",
    "  mape22[i, 1:horiz] <- accuracy(aggts(rxResult[[5]]), aggts(datanext))[1, \"MAPE\"]\n",
    "  mape23[i, 1:horiz] <- accuracy(aggts(rxResult[[6]]), aggts(datanext))[1, \"MAPE\"]\n",
    "  mape31[i, 1:horiz] <- accuracy(aggts(rxResult[[7]]), aggts(datanext))[1, \"MAPE\"]\n",
    "  mape32[i, 1:horiz] <- accuracy(aggts(rxResult[[8]]), aggts(datanext))[1, \"MAPE\"]\n",
    "  mape33[i, 1:horiz] <- accuracy(aggts(rxResult[[9]]), aggts(datanext))[1, \"MAPE\"]\n",
    "}\n",
    "  \n",
    "})"
   ]
  },
  {
   "cell_type": "code",
   "execution_count": 23,
   "metadata": {},
   "outputs": [
    {
     "data": {
      "image/png": "[encoded data removed]",
      "text/plain": [
       "plot without title"
      ]
     },
     "metadata": {},
     "output_type": "display_data"
    }
   ],
   "source": [
    "# Visualize overall mape vs horiz\n",
    "\n",
    "plot(1:4, colMeans(mape11,na.rm=TRUE), type=\"o\", col=2, \n",
    "     xlab=\"horizon\", ylab=\"Overall MAPE\", ylim=c(0, 25))\n",
    "lines(1:4, colMeans(mape12,na.rm=TRUE), type=\"o\",col=3)\n",
    "lines(1:4, colMeans(mape13,na.rm=TRUE), type=\"o\",col=4)\n",
    "lines(1:4, colMeans(mape21,na.rm=TRUE), type=\"o\",col=5)\n",
    "lines(1:4, colMeans(mape22,na.rm=TRUE), type=\"o\",col=6)\n",
    "lines(1:4, colMeans(mape23,na.rm=TRUE), type=\"o\",col=7)\n",
    "lines(1:4, colMeans(mape31,na.rm=TRUE), type=\"o\",col=8)\n",
    "lines(1:4, colMeans(mape32,na.rm=TRUE), type=\"o\",col=9)\n",
    "lines(1:4, colMeans(mape33,na.rm=TRUE), type=\"o\",col=10)\n",
    "legend(\"topleft\", \n",
    "       legend=c(\"bu-ARIMA\", \"bu-ETS\", \"bu-RW\",\n",
    "                \"comb-ARIMA\", \"comb-ETS\", \"comb-RW\",\n",
    "                \"tdgsa-ARIMA\", \"tdgsa-ETS\", \"tdgsa-RW\"), \n",
    "       col=2:10, lty=1, cex=0.5)"
   ]
  },
  {
   "cell_type": "code",
   "execution_count": null,
   "metadata": {
    "collapsed": true
   },
   "outputs": [],
   "source": [
    "# Show the run time of time series cross validation\n",
    "\n",
    "print(tscv_time)"
   ]
  },
  {
   "cell_type": "code",
   "execution_count": null,
   "metadata": {
    "collapsed": true
   },
   "outputs": [],
   "source": [
    "# Forecast the product demand of 2012 using the optimal parameters\n",
    "\n",
    "opt_fcast <- forecast(object  = demandgts, \n",
    "                      h       = 4,\n",
    "                      method  = \"comb\",\n",
    "                      fmethod = \"arima\",\n",
    "                      keep.fitted = TRUE)"
   ]
  },
  {
   "cell_type": "code",
   "execution_count": null,
   "metadata": {
    "collapsed": true
   },
   "outputs": [],
   "source": [
    "# Explore and visualize the forecasted hts\n",
    "\n",
    "aggts(opt_fcast)"
   ]
  },
  {
   "cell_type": "code",
   "execution_count": null,
   "metadata": {
    "collapsed": true
   },
   "outputs": [],
   "source": [
    "summary(opt_fcast)"
   ]
  },
  {
   "cell_type": "code",
   "execution_count": null,
   "metadata": {
    "attributes": {
     "classes": [],
     "error": "FALSE",
     "id": "",
     "message": "FALSE,",
     "warning": "FALSE,"
    },
    "collapsed": true
   },
   "outputs": [],
   "source": [
    "plot(opt_fcast)"
   ]
  }
 ],
 "metadata": {
  "anaconda-cloud": {},
  "kernelspec": {
   "display_name": "R",
   "language": "R",
   "name": "ir"
  },
  "language_info": {
   "codemirror_mode": "r",
   "file_extension": ".r",
   "mimetype": "text/x-r-source",
   "name": "R",
   "pygments_lexer": "r",
   "version": "3.3.3"
  }
 },
 "nbformat": 4,
 "nbformat_minor": 1
}
